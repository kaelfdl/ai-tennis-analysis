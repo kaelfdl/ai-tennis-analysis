{
 "cells": [
  {
   "cell_type": "markdown",
   "id": "eacbf659",
   "metadata": {},
   "source": [
    "# Tennis Ball Detection PyTorch Training Using A YOLO Model"
   ]
  },
  {
   "cell_type": "markdown",
   "id": "8711abf8",
   "metadata": {},
   "source": [
    "## Configure environment variables"
   ]
  },
  {
   "cell_type": "code",
   "execution_count": 3,
   "id": "55ae030b",
   "metadata": {},
   "outputs": [],
   "source": [
    "import os\n",
    "!source ../.env"
   ]
  },
  {
   "cell_type": "code",
   "execution_count": 4,
   "id": "1ec3ca27",
   "metadata": {},
   "outputs": [],
   "source": [
    "roboflow_secret = os.environ.get('roboflow_secret')"
   ]
  },
  {
   "cell_type": "markdown",
   "id": "3e256766",
   "metadata": {},
   "source": [
    "## Install roboflow, ultralytics and wandb"
   ]
  },
  {
   "cell_type": "code",
   "execution_count": null,
   "id": "ecefa9f6-6252-4a95-925e-ddb2909d1eb1",
   "metadata": {},
   "outputs": [],
   "source": [
    "!pip install roboflow\n",
    "!pip install ultralytics\n",
    "\n",
    "# Start Weights & Biases (optional)\n",
    "%pip install -q wandb  #  use 'wandb disable'/'wandb enable' to turn off/on\n",
    "!wandb login $wand_key"
   ]
  },
  {
   "cell_type": "markdown",
   "id": "2c5fba03-477b-4000-bbc4-37615e295b8c",
   "metadata": {},
   "source": [
    "## Get dataset from roboflow"
   ]
  },
  {
   "cell_type": "code",
   "execution_count": 3,
   "id": "5df864e6-00fa-4e97-8e24-fb756f64bb47",
   "metadata": {},
   "outputs": [
    {
     "name": "stdout",
     "output_type": "stream",
     "text": [
      "loading Roboflow workspace...\n",
      "loading Roboflow project...\n"
     ]
    }
   ],
   "source": [
    "from roboflow import Roboflow\n",
    "rf = Roboflow(api_key=roboflow_secret)\n",
    "project = rf.workspace(\"joshuaglaspey-n5m2m\").project(\"tennis-ball-detection-vmjer\")\n",
    "version = project.version(5)\n",
    "dataset = version.download(\"yolov5\")\n"
   ]
  },
  {
   "cell_type": "code",
   "execution_count": 1,
   "id": "1a9d2040-6503-4fea-829f-9a751cd48259",
   "metadata": {},
   "outputs": [],
   "source": [
    "import shutil"
   ]
  },
  {
   "cell_type": "code",
   "execution_count": 2,
   "id": "e524d524",
   "metadata": {},
   "outputs": [
    {
     "data": {
      "text/plain": [
       "'Tennis-Ball-Detection-5/Tennis-Ball-Detection-5/valid'"
      ]
     },
     "execution_count": 2,
     "metadata": {},
     "output_type": "execute_result"
    }
   ],
   "source": [
    "shutil.move('Tennis-Ball-Detection-5/train', 'Tennis-Ball-Detection-5/Tennis-Ball-Detection-5/train')\n",
    "shutil.move('Tennis-Ball-Detection-5/test', 'Tennis-Ball-Detection-5/Tennis-Ball-Detection-5/test')\n",
    "shutil.move('Tennis-Ball-Detection-5/valid', 'Tennis-Ball-Detection-5/Tennis-Ball-Detection-5/valid')"
   ]
  },
  {
   "cell_type": "markdown",
   "id": "a0c5912b",
   "metadata": {},
   "source": [
    "## Train YOLO model for ball detection"
   ]
  },
  {
   "cell_type": "code",
   "execution_count": null,
   "id": "df9f5f71",
   "metadata": {},
   "outputs": [],
   "source": [
    "!yolo task=detect mode=train model=yolov5l6u.pt data={dataset.location}/data.yaml epochs=100 imgsz=640"
   ]
  }
 ],
 "metadata": {
  "kernelspec": {
   "display_name": "Python 3 (ipykernel)",
   "language": "python",
   "name": "python3"
  },
  "language_info": {
   "codemirror_mode": {
    "name": "ipython",
    "version": 3
   },
   "file_extension": ".py",
   "mimetype": "text/x-python",
   "name": "python",
   "nbconvert_exporter": "python",
   "pygments_lexer": "ipython3",
   "version": "3.10.12"
  }
 },
 "nbformat": 4,
 "nbformat_minor": 5
}
